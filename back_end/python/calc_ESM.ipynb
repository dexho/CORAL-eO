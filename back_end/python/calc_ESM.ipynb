{
 "cells": [
  {
   "cell_type": "code",
   "execution_count": 1,
   "metadata": {},
   "outputs": [],
   "source": [
    "from coral.dataprovider import DataProvider\n",
    "from coral import toolx\n",
    "from Utils import *"
   ]
  },
  {
   "cell_type": "code",
   "execution_count": 2,
   "metadata": {},
   "outputs": [],
   "source": [
    "from coral.arango_service import ArangoService\n",
    "from pyArango.connection import *"
   ]
  },
  {
   "cell_type": "code",
   "execution_count": 3,
   "metadata": {},
   "outputs": [],
   "source": [
    "__arango_conn = Connection(arangoURL='http://127.0.0.1:8529',username='root', password='echusOverlook')\n",
    "arango_service = ArangoService(__arango_conn, 'eO')"
   ]
  },
  {
   "cell_type": "code",
   "execution_count": 4,
   "metadata": {},
   "outputs": [],
   "source": [
    "aql = 'FOR item in SDT_Inventory RETURN item'\n",
    "db = __arango_conn['eO']\n",
    "data = db.AQLQuery(aql)\n",
    "\n",
    "inv = Inventory('Inventory', None, {})\n",
    "Inventory.root = inv\n",
    "\n",
    "item_values = {}\n",
    "item_name = ''\n",
    "assembly = ''\n",
    "subassembly = ''\n",
    "count = 0\n",
    "\n",
    "for i in range(len(data)):\n",
    "    item_values = {}\n",
    "    item_name = ''\n",
    "    assembly = ''\n",
    "    subassembly = ''\n",
    "    \n",
    "    item_values['mass'] = data[i]['Mass']\n",
    "    item_values['volume'] = data[i]['Volume']\n",
    "    item_values['power'] = data[i]['Power']\n",
    "    item_values['cooling'] = data[i]['Cooling']\n",
    "    item_values['crewtime'] = data[i]['Crewtime']\n",
    "    item_name = data[i]['Item']\n",
    "    assembly = data[i]['Assembly']\n",
    "    subassembly = data[i]['Subassembly']\n",
    "    count = data[i]['Count']\n",
    "    for i in range(count):\n",
    "        inv.add(item_name, item_values, assembly, subassembly)"
   ]
  },
  {
   "cell_type": "code",
   "execution_count": 5,
   "metadata": {},
   "outputs": [
    {
     "name": "stdout",
     "output_type": "stream",
     "text": [
      "{\n",
      "    \"null\": {\n",
      "        \"mass\": 14038.120200000001,\n",
      "        \"volume\": 45.09014046600001,\n",
      "        \"power\": 2.479,\n",
      "        \"cooling\": 2.7320000000000007,\n",
      "        \"crewtime\": 4.5,\n",
      "        \"null\": {\n",
      "            \"mass\": 14038.120200000001,\n",
      "            \"volume\": 45.09014046600001,\n",
      "            \"power\": 2.479,\n",
      "            \"cooling\": 2.7320000000000007,\n",
      "            \"crewtime\": 4.5,\n",
      "            \"Crop reactor/Plant growth chamber\": {\n",
      "                \"mass\": 0,\n",
      "                \"volume\": 0,\n",
      "                \"power\": 0,\n",
      "                \"cooling\": 0,\n",
      "                \"crewtime\": 0\n",
      "            },\n",
      "            \"Crop storage\": {\n",
      "                \"mass\": 0,\n",
      "                \"volume\": 0,\n",
      "                \"power\": 0,\n",
      "                \"cooling\": 0,\n",
      "                \"crewtime\": 0\n",
      "            },\n",
      "            \"Food - 50 (surface) + 210 (return)\": {\n",
      "                \"mass\": 962.52,\n",
      "                \"volume\": 1.2801516000000002,\n",
      "                \"power\": 0,\n",
      "                \"cooling\": 0,\n",
      "                \"crewtime\": 1.5\n",
      "            },\n",
      "            \"Packaging \": {\n",
      "                \"mass\": 905.6943,\n",
      "                \"volume\": 1.2045734190000001,\n",
      "                \"power\": 0,\n",
      "                \"cooling\": 0,\n",
      "                \"crewtime\": 0\n",
      "            },\n",
      "            \"Fridges - 3 needed\": {\n",
      "                \"mass\": 321,\n",
      "                \"volume\": 2,\n",
      "                \"power\": 0.205,\n",
      "                \"cooling\": 0.228,\n",
      "                \"crewtime\": 0\n",
      "            },\n",
      "            \"Processing\": {\n",
      "                \"mass\": 36.6,\n",
      "                \"volume\": 0.09,\n",
      "                \"power\": 0.001,\n",
      "                \"cooling\": 0.001,\n",
      "                \"crewtime\": 0\n",
      "            },\n",
      "            \"Food - 210 (initial transit) + 50 (surface) + 210 (return)\": {\n",
      "                \"mass\": 1739.94,\n",
      "                \"volume\": 2.3141202000000005,\n",
      "                \"power\": 0,\n",
      "                \"cooling\": 0,\n",
      "                \"crewtime\": 1.5\n",
      "            },\n",
      "            \"Food -  210 (return)\": {\n",
      "                \"mass\": 777.42,\n",
      "                \"volume\": 1.0339686,\n",
      "                \"power\": 0,\n",
      "                \"cooling\": 0,\n",
      "                \"crewtime\": 1.5\n",
      "            },\n",
      "            \"Fridges - 5 needed\": {\n",
      "                \"mass\": 321,\n",
      "                \"volume\": 2,\n",
      "                \"power\": 0.205,\n",
      "                \"cooling\": 0.228,\n",
      "                \"crewtime\": 0\n",
      "            }\n",
      "        }\n",
      "    }\n",
      "}\n"
     ]
    }
   ],
   "source": [
    "print(inv.__repr__())"
   ]
  },
  {
   "cell_type": "code",
   "execution_count": 6,
   "metadata": {},
   "outputs": [],
   "source": [
    "aql = 'FOR item in SDT_RMA RETURN item'\n",
    "db = __arango_conn['eO']\n",
    "data = db.AQLQuery(aql)\n",
    "\n",
    "constants = {}\n",
    "segment_constants = {}\n",
    "\n",
    "for i in range(len(data)):\n",
    "    constants = {}\n",
    "    constants['Leq'] = data[i]['Leq']\n",
    "    constants['Veq'] = data[i]['Veq']\n",
    "    constants['Peq'] = data[i]['Peq']\n",
    "    constants['Ceq'] = data[i]['Ceq']\n",
    "    constants['Teq'] = data[i]['Teq']\n",
    "    constants['Number of days'] = data[i]['Length']\n",
    "    segment_constants[i] = constants\n",
    "    \n",
    "path = [('Earth', 'Earth_orbit'), ('Earth_orbit', 'Mars_orbit'), ('Mars_orbit', 'Mars')]\n",
    "tr1 = Segment('Transit to Mars', path, segment_constants[1], 'tr1')\n",
    "path = [('Mars', 'Mars_orbit'), ('Mars_orbit', 'Earth_orbit'), ('Earth_orbit', 'Earth')]\n",
    "tr2 = Segment('Return Transit', path, segment_constants[1], 'tr2')\n",
    "path = [('Mars', 'Mars')]\n",
    "sf = Segment('Surface Operations', path, segment_constants[2], 'sf')\n",
    "\n",
    "scenario1 = Mission(tr1, sf, tr2)"
   ]
  },
  {
   "cell_type": "code",
   "execution_count": 7,
   "metadata": {},
   "outputs": [
    {
     "ename": "KeyError",
     "evalue": "'Transit to Mars'",
     "output_type": "error",
     "traceback": [
      "\u001b[0;31m---------------------------------------------------------------------------\u001b[0m",
      "\u001b[0;31mKeyError\u001b[0m                                  Traceback (most recent call last)",
      "\u001b[0;32m<ipython-input-7-6fec9cd0a93d>\u001b[0m in \u001b[0;36m<module>\u001b[0;34m\u001b[0m\n\u001b[0;32m----> 1\u001b[0;31m \u001b[0mscenario1\u001b[0m\u001b[0;34m.\u001b[0m\u001b[0msetInventoryFromObject\u001b[0m\u001b[0;34m(\u001b[0m\u001b[0minv\u001b[0m\u001b[0;34m)\u001b[0m\u001b[0;34m\u001b[0m\u001b[0;34m\u001b[0m\u001b[0m\n\u001b[0m",
      "\u001b[0;32m~/CORAL-eO/back_end/python/Utils.py\u001b[0m in \u001b[0;36msetInventoryFromObject\u001b[0;34m(self, inventory)\u001b[0m\n\u001b[1;32m    417\u001b[0m         \u001b[0mself\u001b[0m\u001b[0;34m.\u001b[0m\u001b[0mroot_inventory\u001b[0m \u001b[0;34m=\u001b[0m \u001b[0minventory\u001b[0m\u001b[0;34m\u001b[0m\u001b[0;34m\u001b[0m\u001b[0m\n\u001b[1;32m    418\u001b[0m         \u001b[0;32mfor\u001b[0m \u001b[0msegment\u001b[0m \u001b[0;32min\u001b[0m \u001b[0mself\u001b[0m\u001b[0;34m.\u001b[0m\u001b[0msegments\u001b[0m\u001b[0;34m:\u001b[0m\u001b[0;34m\u001b[0m\u001b[0;34m\u001b[0m\u001b[0m\n\u001b[0;32m--> 419\u001b[0;31m             \u001b[0msegment\u001b[0m\u001b[0;34m.\u001b[0m\u001b[0minventory\u001b[0m \u001b[0;34m=\u001b[0m \u001b[0mInventory\u001b[0m\u001b[0;34m.\u001b[0m\u001b[0mgetSegment\u001b[0m\u001b[0;34m(\u001b[0m\u001b[0msegment\u001b[0m\u001b[0;34m.\u001b[0m\u001b[0mname\u001b[0m\u001b[0;34m)\u001b[0m\u001b[0;34m\u001b[0m\u001b[0;34m\u001b[0m\u001b[0m\n\u001b[0m\u001b[1;32m    420\u001b[0m             \u001b[0msegment\u001b[0m\u001b[0;34m.\u001b[0m\u001b[0msummary\u001b[0m \u001b[0;34m=\u001b[0m \u001b[0msegment\u001b[0m\u001b[0;34m.\u001b[0m\u001b[0minventory\u001b[0m\u001b[0;34m.\u001b[0m\u001b[0mgetValues\u001b[0m\u001b[0;34m(\u001b[0m\u001b[0;34m)\u001b[0m\u001b[0;34m\u001b[0m\u001b[0;34m\u001b[0m\u001b[0m\n\u001b[1;32m    421\u001b[0m \u001b[0;34m\u001b[0m\u001b[0m\n",
      "\u001b[0;32m~/CORAL-eO/back_end/python/Utils.py\u001b[0m in \u001b[0;36mgetSegment\u001b[0;34m(name)\u001b[0m\n\u001b[1;32m    249\u001b[0m         \u001b[0;34m:\u001b[0m\u001b[0;32mreturn\u001b[0m \u001b[0mInventory\u001b[0m\u001b[0;34m:\u001b[0m \u001b[0mthe\u001b[0m \u001b[0mInventory\u001b[0m \u001b[0mobject\u001b[0m \u001b[0;32mfor\u001b[0m \u001b[0mthis\u001b[0m \u001b[0mmission\u001b[0m \u001b[0msegment\u001b[0m\u001b[0;34m\u001b[0m\u001b[0;34m\u001b[0m\u001b[0m\n\u001b[1;32m    250\u001b[0m         '''\n\u001b[0;32m--> 251\u001b[0;31m         \u001b[0;32mreturn\u001b[0m \u001b[0mInventory\u001b[0m\u001b[0;34m.\u001b[0m\u001b[0mroot\u001b[0m\u001b[0;34m.\u001b[0m\u001b[0mchildren\u001b[0m\u001b[0;34m[\u001b[0m\u001b[0mname\u001b[0m\u001b[0;34m]\u001b[0m\u001b[0;34m\u001b[0m\u001b[0;34m\u001b[0m\u001b[0m\n\u001b[0m\u001b[1;32m    252\u001b[0m \u001b[0;34m\u001b[0m\u001b[0m\n\u001b[1;32m    253\u001b[0m \u001b[0;34m\u001b[0m\u001b[0m\n",
      "\u001b[0;31mKeyError\u001b[0m: 'Transit to Mars'"
     ]
    }
   ],
   "source": [
    "scenario1.setInventoryFromObject(inv)"
   ]
  },
  {
   "cell_type": "code",
   "execution_count": null,
   "metadata": {},
   "outputs": [],
   "source": [
    "scenario1.ESM()"
   ]
  },
  {
   "cell_type": "code",
   "execution_count": null,
   "metadata": {},
   "outputs": [],
   "source": [
    "scenario1.xESM()"
   ]
  },
  {
   "cell_type": "code",
   "execution_count": null,
   "metadata": {},
   "outputs": [],
   "source": [
    "print(repr(scenario1))"
   ]
  }
 ],
 "metadata": {
  "kernelspec": {
   "display_name": "Python 3",
   "language": "python",
   "name": "python3"
  },
  "language_info": {
   "codemirror_mode": {
    "name": "ipython",
    "version": 3
   },
   "file_extension": ".py",
   "mimetype": "text/x-python",
   "name": "python",
   "nbconvert_exporter": "python",
   "pygments_lexer": "ipython3",
   "version": "3.8.5"
  }
 },
 "nbformat": 4,
 "nbformat_minor": 4
}
