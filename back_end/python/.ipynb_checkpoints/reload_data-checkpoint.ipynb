{
 "cells": [
  {
   "cell_type": "code",
   "execution_count": 1,
   "metadata": {},
   "outputs": [],
   "source": [
    "from coral.dataprovider import DataProvider\n",
    "from coral import toolx"
   ]
  },
  {
   "cell_type": "code",
   "execution_count": 2,
   "metadata": {},
   "outputs": [
    {
     "name": "stdout",
     "output_type": "stream",
     "text": [
      "<pyArango.connection.Connection object at 0x7f9a47c720d0> eO\n",
      "Init system collections\n",
      "Truncate system collection: SYS_ID\n",
      "Init system collection: SYS_ID\n",
      "Can not create collection: SYS_ID\n",
      "Truncate system collection: SYS_ObjectTypeID\n",
      "Init system collection: SYS_ObjectTypeID\n",
      "Can not create collection: SYS_ObjectTypeID\n",
      "Init system collection: SYS_UserProfile\n",
      "Can not create collection: SYS_UserProfile\n",
      "Deleting old data\n",
      "<pyArango.connection.Connection object at 0x7f9a4a645b20> eO\n",
      "Removing process edges\n",
      "Truncate system collection: SYS_ProcessInput\n",
      "Truncate system collection: SYS_ProcessOutput\n",
      "Removing SYS_Process \n",
      "<pyArango.connection.Connection object at 0x7f9a4a645af0> eO\n",
      "Removing DDT_Brick \n",
      "<pyArango.connection.Connection object at 0x7f9a4a617430> eO\n",
      "Removing SDT_CUBES \n",
      "Removing SDT_Campaign \n",
      "Removing SDT_Techno-economics \n",
      "Removing SDT_Simulation \n",
      "Removing SDT_Inventory \n",
      "Removing SDT_RMA \n",
      "Uploading new data\n",
      "<pyArango.connection.Connection object at 0x7f9a4a665940> eO\n",
      "Ontology collection is present already\n",
      "Ensure ontology indices\n",
      "Doing ontology: units\n",
      "Deleting terms in units\n",
      "Doing ontology: context_measurement\n",
      "Deleting terms in context_measurement\n",
      "Doing ontology: dtype\n",
      "Deleting terms in dtype\n",
      "Doing ontology: process\n",
      "Deleting terms in process\n",
      "<pyArango.connection.Connection object at 0x7f9a4a90e490> eO\n",
      "<pyArango.connection.Connection object at 0x7f9a4a617e50> eO\n",
      "Can not create a collection for type Process\n"
     ]
    }
   ],
   "source": [
    "toolx.init_system()"
   ]
  },
  {
   "cell_type": "code",
   "execution_count": 3,
   "metadata": {},
   "outputs": [],
   "source": [
    "import pandas as pd\n",
    "import os"
   ]
  },
  {
   "cell_type": "code",
   "execution_count": 9,
   "metadata": {},
   "outputs": [
    {
     "name": "stdout",
     "output_type": "stream",
     "text": [
      "/Users/desho/CORAL-eO/example/eO/data/case_study_1/inventory_tr2.xlsx\n",
      "/Users/desho/CORAL-eO/example/eO/data/case_study_1/inventory_pd.xlsx\n",
      "/Users/desho/CORAL-eO/example/eO/data/case_study_1/RMA.xlsx\n",
      "/Users/desho/CORAL-eO/example/eO/data/case_study_1/inventory_tr1.xlsx\n",
      "/Users/desho/CORAL-eO/example/eO/data/case_study_1/~$inventory_pd.xlsx\n"
     ]
    },
    {
     "ename": "XLRDError",
     "evalue": "Unsupported format, or corrupt file: Expected BOF record; found b'\\tDavian '",
     "output_type": "error",
     "traceback": [
      "\u001b[0;31m---------------------------------------------------------------------------\u001b[0m\n\u001b[0;31mXLRDError\u001b[0m                                 Traceback (most recent call last)",
      "File \u001b[0;34m/Users/desho/opt/anaconda3/lib/python3.8/site-packages/IPython/core/interactiveshell.py\u001b[0m, in \u001b[0;32mrun_code\u001b[0m:\nLine \u001b[0;34m3441\u001b[0m:  exec(code_obj, \u001b[36mself\u001b[39;49;00m.user_global_ns, \u001b[36mself\u001b[39;49;00m.user_ns)\n",
      "In  \u001b[0;34m[9]\u001b[0m:\nLine \u001b[0;34m6\u001b[0m:     df = pd.read_excel(name)\n",
      "File \u001b[0;34m/Users/desho/opt/anaconda3/lib/python3.8/site-packages/pandas/util/_decorators.py\u001b[0m, in \u001b[0;32mwrapper\u001b[0m:\nLine \u001b[0;34m296\u001b[0m:   \u001b[34mreturn\u001b[39;49;00m func(*args, **kwargs)\n",
      "File \u001b[0;34m/Users/desho/opt/anaconda3/lib/python3.8/site-packages/pandas/io/excel/_base.py\u001b[0m, in \u001b[0;32mread_excel\u001b[0m:\nLine \u001b[0;34m304\u001b[0m:   io = ExcelFile(io, engine=engine)\n",
      "File \u001b[0;34m/Users/desho/opt/anaconda3/lib/python3.8/site-packages/pandas/io/excel/_base.py\u001b[0m, in \u001b[0;32m__init__\u001b[0m:\nLine \u001b[0;34m867\u001b[0m:   \u001b[36mself\u001b[39;49;00m._reader = \u001b[36mself\u001b[39;49;00m._engines[engine](\u001b[36mself\u001b[39;49;00m._io)\n",
      "File \u001b[0;34m/Users/desho/opt/anaconda3/lib/python3.8/site-packages/pandas/io/excel/_xlrd.py\u001b[0m, in \u001b[0;32m__init__\u001b[0m:\nLine \u001b[0;34m22\u001b[0m:    \u001b[36msuper\u001b[39;49;00m().\u001b[32m__init__\u001b[39;49;00m(filepath_or_buffer)\n",
      "File \u001b[0;34m/Users/desho/opt/anaconda3/lib/python3.8/site-packages/pandas/io/excel/_base.py\u001b[0m, in \u001b[0;32m__init__\u001b[0m:\nLine \u001b[0;34m353\u001b[0m:   \u001b[36mself\u001b[39;49;00m.book = \u001b[36mself\u001b[39;49;00m.load_workbook(filepath_or_buffer)\n",
      "File \u001b[0;34m/Users/desho/opt/anaconda3/lib/python3.8/site-packages/pandas/io/excel/_xlrd.py\u001b[0m, in \u001b[0;32mload_workbook\u001b[0m:\nLine \u001b[0;34m37\u001b[0m:    \u001b[34mreturn\u001b[39;49;00m open_workbook(filepath_or_buffer)\n",
      "File \u001b[0;34m/Users/desho/opt/anaconda3/lib/python3.8/site-packages/xlrd/__init__.py\u001b[0m, in \u001b[0;32mopen_workbook\u001b[0m:\nLine \u001b[0;34m148\u001b[0m:   bk = book.open_workbook_xls(\n",
      "File \u001b[0;34m/Users/desho/opt/anaconda3/lib/python3.8/site-packages/xlrd/book.py\u001b[0m, in \u001b[0;32mopen_workbook_xls\u001b[0m:\nLine \u001b[0;34m92\u001b[0m:    biff_version = bk.getbof(XL_WORKBOOK_GLOBALS)\n",
      "File \u001b[0;34m/Users/desho/opt/anaconda3/lib/python3.8/site-packages/xlrd/book.py\u001b[0m, in \u001b[0;32mgetbof\u001b[0m:\nLine \u001b[0;34m1278\u001b[0m:  bof_error(\u001b[33m'\u001b[39;49;00m\u001b[33mExpected BOF record; found \u001b[39;49;00m\u001b[33m%r\u001b[39;49;00m\u001b[33m'\u001b[39;49;00m % \u001b[36mself\u001b[39;49;00m.mem[savpos:savpos+\u001b[34m8\u001b[39;49;00m])\n",
      "File \u001b[0;34m/Users/desho/opt/anaconda3/lib/python3.8/site-packages/xlrd/book.py\u001b[0m, in \u001b[0;32mbof_error\u001b[0m:\nLine \u001b[0;34m1272\u001b[0m:  \u001b[34mraise\u001b[39;49;00m XLRDError(\u001b[33m'\u001b[39;49;00m\u001b[33mUnsupported format, or corrupt file: \u001b[39;49;00m\u001b[33m'\u001b[39;49;00m + msg)\n",
      "\u001b[0;31mXLRDError\u001b[0m: Unsupported format, or corrupt file: Expected BOF record; found b'\\tDavian '\n\u001b[0;31m---------------------------------------------------------------------------\u001b[0m"
     ]
    }
   ],
   "source": [
    "cs1_dir = '/Users/desho/CORAL-eO/example/eO/data/case_study_1'\n",
    "for file in os.listdir(cs1_dir):\n",
    "    print(file[-4:])\n",
    "    if file[-4:] == 'xlsx':\n",
    "        name = cs1_dir + '/' + file\n",
    "        print(name)\n",
    "        df = pd.read_excel(name)\n",
    "        if 'Process' in df.columns:\n",
    "            df['Process'] = df['Process'].ffill()\n",
    "        df = df.fillna(0)\n",
    "        df.to_csv(name[:-5] + '.tsv', sep='\\t')\n",
    "\n",
    "# df = pd.read_excel('/Users/desho/CORAL-eO/example/eO/data/case_study_1/inventory_pd.xlsx')\n",
    "# df['Process'] = df['Process'].ffill()\n",
    "# df = df.fillna(0)\n",
    "# pd.to_csv()"
   ]
  },
  {
   "cell_type": "code",
   "execution_count": null,
   "metadata": {},
   "outputs": [],
   "source": [
    "toolx.update_core('case_study_1/RMA.tsv', 'Inventory')"
   ]
  },
  {
   "cell_type": "code",
   "execution_count": null,
   "metadata": {},
   "outputs": [],
   "source": [
    "toolx.update_core('case_study_1/inventory_pd.tsv', 'Inventory')"
   ]
  },
  {
   "cell_type": "code",
   "execution_count": null,
   "metadata": {},
   "outputs": [],
   "source": [
    "toolx.update_core('case_study_1/inventory_sf.tsv', 'Inventory')"
   ]
  },
  {
   "cell_type": "code",
   "execution_count": null,
   "metadata": {},
   "outputs": [],
   "source": [
    "toolx.update_core('case_study_1/inventory_tr1.tsv', 'Inventory')"
   ]
  },
  {
   "cell_type": "code",
   "execution_count": null,
   "metadata": {},
   "outputs": [],
   "source": [
    "toolx.update_core('case_study_1/inventory_tr2.tsv', 'Inventory')"
   ]
  }
 ],
 "metadata": {
  "kernelspec": {
   "display_name": "Python 3.8 (XPython)",
   "language": "python",
   "name": "xpython"
  },
  "language_info": {
   "file_extension": ".py",
   "mimetype": "text/x-python",
   "name": "python",
   "version": "3.8.10"
  }
 },
 "nbformat": 4,
 "nbformat_minor": 5
}
