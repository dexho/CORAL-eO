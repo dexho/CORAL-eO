{
 "cells": [
  {
   "cell_type": "code",
   "execution_count": 1,
   "metadata": {},
   "outputs": [],
   "source": [
    "from coral.dataprovider import DataProvider\n",
    "from coral import toolx\n",
    "from Utils import *"
   ]
  },
  {
   "cell_type": "code",
   "execution_count": 2,
   "metadata": {},
   "outputs": [],
   "source": [
    "import os\n",
    "import sys\n",
    "\n",
    "sys.path.append('/Users/desho/echusOverlook')\n",
    "from eo.inventory import Inventory\n",
    "from eo.rma import RMA, MissionSegment\n",
    "from eo.crew import Crew\n",
    "from eo.mission_needs import *"
   ]
  },
  {
   "cell_type": "markdown",
   "metadata": {},
   "source": [
    "# Initialize CORAL"
   ]
  },
  {
   "cell_type": "code",
   "execution_count": 3,
   "metadata": {},
   "outputs": [
    {
     "name": "stdout",
     "output_type": "stream",
     "text": [
      "<pyArango.connection.Connection object at 0x7fa5f9e17d90> eO\n",
      "Init system collections\n",
      "Truncate system collection: SYS_ID\n",
      "Init system collection: SYS_ID\n",
      "Can not create collection: SYS_ID\n",
      "Truncate system collection: SYS_ObjectTypeID\n",
      "Init system collection: SYS_ObjectTypeID\n",
      "Can not create collection: SYS_ObjectTypeID\n",
      "Init system collection: SYS_UserProfile\n",
      "Can not create collection: SYS_UserProfile\n",
      "Deleting old data\n",
      "<pyArango.connection.Connection object at 0x7fa5f9e41430> eO\n",
      "Removing process edges\n",
      "Truncate system collection: SYS_ProcessInput\n",
      "Truncate system collection: SYS_ProcessOutput\n",
      "Removing SYS_Process \n",
      "<pyArango.connection.Connection object at 0x7fa5f9e81c10> eO\n",
      "Removing DDT_Brick \n",
      "<pyArango.connection.Connection object at 0x7fa5f9e91700> eO\n",
      "Removing SDT_CUBES \n",
      "Removing SDT_Campaign \n",
      "Removing SDT_Techno-economics \n",
      "Removing SDT_Simulation \n",
      "Removing SDT_Inventory \n",
      "Removing SDT_RMA \n",
      "Removing SDT_Crew \n",
      "Uploading new data\n",
      "<pyArango.connection.Connection object at 0x7fa5f9e17a90> eO\n",
      "Ontology collection is present already\n",
      "Ensure ontology indices\n",
      "Doing ontology: units\n",
      "Deleting terms in units\n",
      "Doing ontology: context_measurement\n",
      "Deleting terms in context_measurement\n",
      "Doing ontology: dtype\n",
      "Deleting terms in dtype\n",
      "Doing ontology: process\n",
      "Deleting terms in process\n",
      "<pyArango.connection.Connection object at 0x7fa5f63d2a00> eO\n",
      "<pyArango.connection.Connection object at 0x7fa5fa29fb80> eO\n",
      "Can not create a collection for type Process\n"
     ]
    }
   ],
   "source": [
    "toolx.init_system()"
   ]
  },
  {
   "cell_type": "code",
   "execution_count": 4,
   "metadata": {},
   "outputs": [],
   "source": [
    "from coral.arango_service import ArangoService\n",
    "from pyArango.connection import *"
   ]
  },
  {
   "cell_type": "code",
   "execution_count": 5,
   "metadata": {},
   "outputs": [],
   "source": [
    "__arango_conn = Connection(arangoURL='http://127.0.0.1:8529',username='root', password='echusOverlook')\n",
    "arango_service = ArangoService(__arango_conn, 'eO')"
   ]
  },
  {
   "cell_type": "markdown",
   "metadata": {},
   "source": [
    "# Uploading to ArangoDB"
   ]
  },
  {
   "cell_type": "code",
   "execution_count": 6,
   "metadata": {},
   "outputs": [],
   "source": [
    "import pandas as pd\n",
    "import os"
   ]
  },
  {
   "cell_type": "code",
   "execution_count": 7,
   "metadata": {},
   "outputs": [
    {
     "name": "stdout",
     "output_type": "stream",
     "text": [
      "created /Users/desho/CORAL-eO/example/eO/data/case_study_1/crew.tsv\n",
      "created /Users/desho/CORAL-eO/example/eO/data/case_study_1/inventory_tr2.tsv\n",
      "created /Users/desho/CORAL-eO/example/eO/data/case_study_1/inventory_pd.tsv\n",
      "created /Users/desho/CORAL-eO/example/eO/data/case_study_1/RMA.tsv\n",
      "created /Users/desho/CORAL-eO/example/eO/data/case_study_1/inventory_tr1.tsv\n",
      "created /Users/desho/CORAL-eO/example/eO/data/case_study_1/inventory_sf.tsv\n"
     ]
    }
   ],
   "source": [
    "cs1_dir = '/Users/desho/CORAL-eO/example/eO/data/case_study_1'\n",
    "for file in os.listdir(cs1_dir):\n",
    "    if file[-4:] == 'xlsx':\n",
    "        name = cs1_dir + '/' + file\n",
    "        df = pd.read_excel(name)\n",
    "        if 'Process' in df.columns:\n",
    "            df['Process'] = df['Process'].ffill()\n",
    "        df = df.fillna(0)\n",
    "        df.to_csv(name[:-5] + '.tsv', sep='\\t', index=False)\n",
    "        print('created', name[:-5] + '.tsv')"
   ]
  },
  {
   "cell_type": "code",
   "execution_count": 8,
   "metadata": {},
   "outputs": [
    {
     "name": "stdout",
     "output_type": "stream",
     "text": [
      "type_name RMA\n",
      "Doing RMA: case_study_1/RMA.tsv\n",
      "<pyArango.connection.Connection object at 0x7fa5fa06a490> eO\n",
      "size=4\n"
     ]
    }
   ],
   "source": [
    "toolx.update_core('case_study_1/RMA.tsv', 'RMA')"
   ]
  },
  {
   "cell_type": "code",
   "execution_count": 9,
   "metadata": {},
   "outputs": [
    {
     "name": "stdout",
     "output_type": "stream",
     "text": [
      "type_name Inventory\n",
      "Doing Inventory: case_study_1/inventory_pd.tsv\n",
      "<pyArango.connection.Connection object at 0x7fa5fa11e850> eO\n",
      "size=2\n"
     ]
    }
   ],
   "source": [
    "toolx.update_core('case_study_1/inventory_pd.tsv', 'Inventory')"
   ]
  },
  {
   "cell_type": "code",
   "execution_count": 10,
   "metadata": {},
   "outputs": [
    {
     "name": "stdout",
     "output_type": "stream",
     "text": [
      "type_name Inventory\n",
      "Doing Inventory: case_study_1/inventory_sf.tsv\n",
      "<pyArango.connection.Connection object at 0x7fa5fa1d5e50> eO\n",
      "Can not create a collection for type Inventory\n",
      "size=6\n"
     ]
    }
   ],
   "source": [
    "toolx.update_core('case_study_1/inventory_sf.tsv', 'Inventory')"
   ]
  },
  {
   "cell_type": "code",
   "execution_count": 11,
   "metadata": {},
   "outputs": [
    {
     "name": "stdout",
     "output_type": "stream",
     "text": [
      "type_name Inventory\n",
      "Doing Inventory: case_study_1/inventory_tr1.tsv\n",
      "<pyArango.connection.Connection object at 0x7fa5fa3aad90> eO\n",
      "Can not create a collection for type Inventory\n",
      "size=6\n"
     ]
    }
   ],
   "source": [
    "toolx.update_core('case_study_1/inventory_tr1.tsv', 'Inventory')"
   ]
  },
  {
   "cell_type": "code",
   "execution_count": 12,
   "metadata": {},
   "outputs": [
    {
     "name": "stdout",
     "output_type": "stream",
     "text": [
      "type_name Inventory\n",
      "Doing Inventory: case_study_1/inventory_tr2.tsv\n",
      "<pyArango.connection.Connection object at 0x7fa5fa3aa220> eO\n",
      "Can not create a collection for type Inventory\n",
      "size=6\n"
     ]
    }
   ],
   "source": [
    "toolx.update_core('case_study_1/inventory_tr2.tsv', 'Inventory')"
   ]
  },
  {
   "cell_type": "code",
   "execution_count": 13,
   "metadata": {},
   "outputs": [
    {
     "name": "stdout",
     "output_type": "stream",
     "text": [
      "type_name Crew\n",
      "Doing Crew: case_study_1/crew.tsv\n",
      "<pyArango.connection.Connection object at 0x7fa5fa3aac70> eO\n",
      "size=4\n"
     ]
    }
   ],
   "source": [
    "toolx.update_core('case_study_1/crew.tsv', 'Crew')"
   ]
  },
  {
   "cell_type": "markdown",
   "metadata": {},
   "source": [
    "# Database queries"
   ]
  },
  {
   "cell_type": "markdown",
   "metadata": {},
   "source": [
    "#### Create RMA object"
   ]
  },
  {
   "cell_type": "code",
   "execution_count": 14,
   "metadata": {},
   "outputs": [
    {
     "name": "stdout",
     "output_type": "stream",
     "text": [
      "pd | 210 | earth, earth-orbit, mars-orbit, mars\n",
      "tr1 | 410 | earth, earth-orbit, mars-orbit, mars\n",
      "tr2 | 410 | mars, mars-orbit, earth-orbit, earth\n",
      "sf | 500 | mars\n"
     ]
    }
   ],
   "source": [
    "aql = 'FOR item in SDT_RMA RETURN item'\n",
    "data = __arango_conn['eO'].AQLQuery(aql)\n",
    "\n",
    "RMA_CS1 = RMA(data)"
   ]
  },
  {
   "cell_type": "markdown",
   "metadata": {},
   "source": [
    "#### Create inventories"
   ]
  },
  {
   "cell_type": "code",
   "execution_count": 15,
   "metadata": {},
   "outputs": [
    {
     "name": "stdout",
     "output_type": "stream",
     "text": [
      "parent BioM child Crop reactor/Plant growth chamber\n",
      "parent BioM child Crop storage\n"
     ]
    }
   ],
   "source": [
    "aql = 'FOR item in SDT_Inventory FILTER CONTAINS(item.Name, \"Inventory-pd\") == true RETURN item'\n",
    "data = __arango_conn['eO'].AQLQuery(aql)\n",
    "inv_pd = Inventory('root1', data=data)"
   ]
  },
  {
   "cell_type": "code",
   "execution_count": null,
   "metadata": {},
   "outputs": [],
   "source": [
    "aql = 'FOR item in SDT_Inventory FILTER CONTAINS(item.Name, \"Inventory-tr1\") == true RETURN item'\n",
    "data = __arango_conn['eO'].AQLQuery(aql)\n",
    "inv_tr1 = Inventory('root2', data=data)"
   ]
  },
  {
   "cell_type": "code",
   "execution_count": null,
   "metadata": {},
   "outputs": [],
   "source": [
    "aql = 'FOR item in SDT_Inventory FILTER CONTAINS(item.Name, \"Inventory-tr2\") == true RETURN item'\n",
    "data = __arango_conn['eO'].AQLQuery(aql)\n",
    "inv_tr2 = Inventory('root3', data=data)"
   ]
  },
  {
   "cell_type": "code",
   "execution_count": null,
   "metadata": {},
   "outputs": [],
   "source": [
    "aql = 'FOR item in SDT_Inventory FILTER CONTAINS(item.Name, \"Inventory-sf\") == true RETURN item'\n",
    "data = __arango_conn['eO'].AQLQuery(aql)\n",
    "inv_sf = Inventory('root4', data=data)"
   ]
  },
  {
   "cell_type": "markdown",
   "metadata": {},
   "source": [
    "#### Add inventories to RMA segments"
   ]
  },
  {
   "cell_type": "code",
   "execution_count": null,
   "metadata": {},
   "outputs": [],
   "source": [
    "RMA_CS1.segments"
   ]
  },
  {
   "cell_type": "code",
   "execution_count": null,
   "metadata": {},
   "outputs": [],
   "source": [
    "inventories = {'pd':inv_pd, 'tr1':inv_tr1, 'tr2':inv_tr2, 'sf':inv_sf}\n",
    "\n",
    "for key in RMA_CS1.segments.keys():\n",
    "    RMA_CS1.segments[key].set_inventory(inventories[key])"
   ]
  },
  {
   "cell_type": "markdown",
   "metadata": {},
   "source": [
    "#### Create crew object"
   ]
  },
  {
   "cell_type": "code",
   "execution_count": null,
   "metadata": {},
   "outputs": [],
   "source": [
    "aql = 'FOR item in SDT_Crew RETURN item'\n",
    "data = __arango_conn['eO'].AQLQuery(aql)\n",
    "CREW_CS1 = Crew.from_arango(data)"
   ]
  },
  {
   "cell_type": "markdown",
   "metadata": {},
   "source": [
    "#### Add crew to RMA object"
   ]
  },
  {
   "cell_type": "code",
   "execution_count": null,
   "metadata": {},
   "outputs": [],
   "source": [
    "for segment in RMA_CS1.segments.values():\n",
    "    if segment.crew_count == 4:\n",
    "        segment.set_crew(CREW_CS1)"
   ]
  },
  {
   "cell_type": "markdown",
   "metadata": {},
   "source": [
    "# Calculations"
   ]
  },
  {
   "cell_type": "markdown",
   "metadata": {},
   "source": [
    "#### Mission needs"
   ]
  },
  {
   "cell_type": "code",
   "execution_count": null,
   "metadata": {},
   "outputs": [],
   "source": [
    "calc_mission_needs(RMA_CS1)"
   ]
  },
  {
   "cell_type": "code",
   "execution_count": null,
   "metadata": {},
   "outputs": [],
   "source": [
    "import matplotlib.pyplot as plt\n",
    "\n",
    "needs = {'tr1':{'kcal': 17695.094169059117, 'sensible_heat': 9469.354860009202, 'latent_heat': 8038.609862946554, 'water_vapor': 3047.489821641586, 'sweat': 208.04796235497815, 'O2_consumption': 1221.9440446763515, 'CO2_output': 1553.7148016234069}, \\\n",
    "        'tr2': {'kcal': 17695.094169059117, 'sensible_heat': 9469.354860009202, 'latent_heat': 8038.609862946554, 'water_vapor': 3047.489821641586, 'sweat': 208.04796235497815, 'O2_consumption': 1221.9440446763515, 'CO2_output': 1553.7148016234069}, \\\n",
    "        'sf': {'kcal': 21579.383132998926, 'sensible_heat': 11547.993731718538, 'latent_heat': 9803.18275969092, 'water_vapor': 3716.451002001934, 'sweat': 253.7170272621685, 'O2_consumption': 1490.1756642394535, 'CO2_output': 1894.774148321228}}\n",
    "\n",
    "df = pd.DataFrame.from_dict(needs)"
   ]
  },
  {
   "cell_type": "code",
   "execution_count": null,
   "metadata": {},
   "outputs": [],
   "source": [
    "df.plot(y=[\"tr1\", \"tr2\", \"sf\"], kind=\"bar\")\n",
    "plt.show()"
   ]
  },
  {
   "cell_type": "markdown",
   "metadata": {},
   "source": [
    "#### ESM"
   ]
  },
  {
   "cell_type": "code",
   "execution_count": null,
   "metadata": {},
   "outputs": [],
   "source": []
  },
  {
   "cell_type": "code",
   "execution_count": null,
   "metadata": {},
   "outputs": [],
   "source": []
  },
  {
   "cell_type": "code",
   "execution_count": null,
   "metadata": {},
   "outputs": [],
   "source": []
  },
  {
   "cell_type": "code",
   "execution_count": null,
   "metadata": {},
   "outputs": [],
   "source": []
  }
 ],
 "metadata": {
  "kernelspec": {
   "display_name": "Python 3.8 (XPython)",
   "language": "python",
   "name": "xpython"
  },
  "language_info": {
   "file_extension": ".py",
   "mimetype": "text/x-python",
   "name": "python",
   "version": "3.8.10"
  }
 },
 "nbformat": 4,
 "nbformat_minor": 4
}
