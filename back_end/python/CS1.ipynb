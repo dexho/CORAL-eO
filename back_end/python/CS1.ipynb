{
 "cells": [
  {
   "cell_type": "code",
   "execution_count": 1,
   "source": [
    "from coral.dataprovider import DataProvider\n",
    "from coral import toolx\n",
    "from Utils import *"
   ],
   "outputs": [],
   "metadata": {}
  },
  {
   "cell_type": "code",
   "execution_count": null,
   "source": [
    "import os\n",
    "import sys\n",
    "\n",
    "sys.path.append('/Users/desho/echusOverlook')\n",
    "from eo.inventory import Inventory\n",
    "from eo.rma import RMA, MissionSegment\n",
    "from eo.crew import Crew\n",
    "from eo.mission_needs import *"
   ],
   "outputs": [],
   "metadata": {}
  },
  {
   "cell_type": "markdown",
   "source": [
    "# Initialize CORAL"
   ],
   "metadata": {}
  },
  {
   "cell_type": "code",
   "execution_count": null,
   "source": [
    "toolx.init_system()"
   ],
   "outputs": [
    {
     "output_type": "stream",
     "name": "stdout",
     "text": [
      "<pyArango.connection.Connection object at 0x7fb126bc6370> eO\n",
      "Init system collections\n",
      "Truncate system collection: SYS_ID\n",
      "Init system collection: SYS_ID\n",
      "Can not create collection: SYS_ID\n",
      "Truncate system collection: SYS_ObjectTypeID\n",
      "Init system collection: SYS_ObjectTypeID\n",
      "Can not create collection: SYS_ObjectTypeID\n",
      "Init system collection: SYS_UserProfile\n",
      "Can not create collection: SYS_UserProfile\n",
      "Deleting old data\n",
      "<pyArango.connection.Connection object at 0x7fb1296f5610> eO\n",
      "Removing process edges\n",
      "Truncate system collection: SYS_ProcessInput\n",
      "Truncate system collection: SYS_ProcessOutput\n"
     ]
    },
    {
     "output_type": "error",
     "ename": "AttributeError",
     "evalue": "'NoneType' object has no attribute 'collection_name'",
     "traceback": [
      "\u001b[0;31m---------------------------------------------------------------------------\u001b[0m\n\u001b[0;31mAttributeError\u001b[0m                            Traceback (most recent call last)",
      "File \u001b[0;34m/Users/desho/opt/anaconda3/lib/python3.8/site-packages/IPython/core/interactiveshell.py\u001b[0m, in \u001b[0;32mrun_code\u001b[0m:\nLine \u001b[0;34m3441\u001b[0m:  exec(code_obj, \u001b[36mself\u001b[39;49;00m.user_global_ns, \u001b[36mself\u001b[39;49;00m.user_ns)\n",
      "In  \u001b[0;34m[3]\u001b[0m:\nLine \u001b[0;34m1\u001b[0m:     toolx.init_system()\n",
      "File \u001b[0;34m/Users/desho/CORAL-eO/back_end/python/coral/toolx.py\u001b[0m, in \u001b[0;32minit_system\u001b[0m:\nLine \u001b[0;34m19\u001b[0m:    delete_processes()\n",
      "File \u001b[0;34m/Users/desho/CORAL-eO/back_end/python/coral/toolx.py\u001b[0m, in \u001b[0;32mdelete_processes\u001b[0m:\nLine \u001b[0;34m244\u001b[0m:   \u001b[36mprint\u001b[39;49;00m(\u001b[33m'\u001b[39;49;00m\u001b[33mRemoving \u001b[39;49;00m\u001b[33m%s\u001b[39;49;00m\u001b[33m \u001b[39;49;00m\u001b[33m'\u001b[39;49;00m % type_def.collection_name)\n",
      "\u001b[0;31mAttributeError\u001b[0m: 'NoneType' object has no attribute 'collection_name'\n\u001b[0;31m---------------------------------------------------------------------------\u001b[0m"
     ]
    }
   ],
   "metadata": {}
  },
  {
   "cell_type": "code",
   "execution_count": 4,
   "source": [
    "from coral.arango_service import ArangoService\n",
    "from pyArango.connection import *"
   ],
   "outputs": [],
   "metadata": {}
  },
  {
   "cell_type": "code",
   "execution_count": 5,
   "source": [
    "__arango_conn = Connection(arangoURL='http://127.0.0.1:8529',username='root', password='echusOverlook')\n",
    "arango_service = ArangoService(__arango_conn, 'eO')"
   ],
   "outputs": [],
   "metadata": {}
  },
  {
   "cell_type": "markdown",
   "source": [
    "# Uploading to ArangoDB"
   ],
   "metadata": {}
  },
  {
   "cell_type": "code",
   "execution_count": 6,
   "source": [
    "import pandas as pd\n",
    "import os"
   ],
   "outputs": [],
   "metadata": {}
  },
  {
   "cell_type": "code",
   "execution_count": 7,
   "source": [
    "cs1_dir = '/Users/desho/CORAL-eO/example/eO/data/case_study_1'\n",
    "for file in os.listdir(cs1_dir):\n",
    "    if file[-4:] == 'xlsx':\n",
    "        name = cs1_dir + '/' + file\n",
    "        df = pd.read_excel(name)\n",
    "        if 'Process' in df.columns:\n",
    "            df['Process'] = df['Process'].ffill()\n",
    "        df = df.fillna(0)\n",
    "        df.to_csv(name[:-5] + '.tsv', sep='\\t', index=False)\n",
    "        print('created', name[:-5] + '.tsv')"
   ],
   "outputs": [
    {
     "output_type": "stream",
     "name": "stdout",
     "text": [
      "created /Users/desho/CORAL-eO/example/eO/data/case_study_1/crew.tsv\n",
      "created /Users/desho/CORAL-eO/example/eO/data/case_study_1/inventory_tr2.tsv\n",
      "created /Users/desho/CORAL-eO/example/eO/data/case_study_1/inventory_pd.tsv\n",
      "created /Users/desho/CORAL-eO/example/eO/data/case_study_1/RMA.tsv\n",
      "created /Users/desho/CORAL-eO/example/eO/data/case_study_1/inventory_tr1.tsv\n",
      "created /Users/desho/CORAL-eO/example/eO/data/case_study_1/inventory_sf.tsv\n"
     ]
    }
   ],
   "metadata": {}
  },
  {
   "cell_type": "code",
   "execution_count": 8,
   "source": [
    "toolx.update_core('case_study_1/RMA.tsv', 'RMA')"
   ],
   "outputs": [
    {
     "output_type": "stream",
     "name": "stdout",
     "text": [
      "type_name RMA\n",
      "Doing RMA: case_study_1/RMA.tsv\n",
      "<pyArango.connection.Connection object at 0x7fa5fa06a490> eO\n",
      "size=4\n"
     ]
    }
   ],
   "metadata": {}
  },
  {
   "cell_type": "code",
   "execution_count": 9,
   "source": [
    "toolx.update_core('case_study_1/inventory_pd.tsv', 'Inventory')"
   ],
   "outputs": [
    {
     "output_type": "stream",
     "name": "stdout",
     "text": [
      "type_name Inventory\n",
      "Doing Inventory: case_study_1/inventory_pd.tsv\n",
      "<pyArango.connection.Connection object at 0x7fa5fa11e850> eO\n",
      "size=2\n"
     ]
    }
   ],
   "metadata": {}
  },
  {
   "cell_type": "code",
   "execution_count": 10,
   "source": [
    "toolx.update_core('case_study_1/inventory_sf.tsv', 'Inventory')"
   ],
   "outputs": [
    {
     "output_type": "stream",
     "name": "stdout",
     "text": [
      "type_name Inventory\n",
      "Doing Inventory: case_study_1/inventory_sf.tsv\n",
      "<pyArango.connection.Connection object at 0x7fa5fa1d5e50> eO\n",
      "Can not create a collection for type Inventory\n",
      "size=6\n"
     ]
    }
   ],
   "metadata": {}
  },
  {
   "cell_type": "code",
   "execution_count": 11,
   "source": [
    "toolx.update_core('case_study_1/inventory_tr1.tsv', 'Inventory')"
   ],
   "outputs": [
    {
     "output_type": "stream",
     "name": "stdout",
     "text": [
      "type_name Inventory\n",
      "Doing Inventory: case_study_1/inventory_tr1.tsv\n",
      "<pyArango.connection.Connection object at 0x7fa5fa3aad90> eO\n",
      "Can not create a collection for type Inventory\n",
      "size=6\n"
     ]
    }
   ],
   "metadata": {}
  },
  {
   "cell_type": "code",
   "execution_count": 12,
   "source": [
    "toolx.update_core('case_study_1/inventory_tr2.tsv', 'Inventory')"
   ],
   "outputs": [
    {
     "output_type": "stream",
     "name": "stdout",
     "text": [
      "type_name Inventory\n",
      "Doing Inventory: case_study_1/inventory_tr2.tsv\n",
      "<pyArango.connection.Connection object at 0x7fa5fa3aa220> eO\n",
      "Can not create a collection for type Inventory\n",
      "size=6\n"
     ]
    }
   ],
   "metadata": {}
  },
  {
   "cell_type": "code",
   "execution_count": 13,
   "source": [
    "toolx.update_core('case_study_1/crew.tsv', 'Crew')"
   ],
   "outputs": [
    {
     "output_type": "stream",
     "name": "stdout",
     "text": [
      "type_name Crew\n",
      "Doing Crew: case_study_1/crew.tsv\n",
      "<pyArango.connection.Connection object at 0x7fa5fa3aac70> eO\n",
      "size=4\n"
     ]
    }
   ],
   "metadata": {}
  },
  {
   "cell_type": "markdown",
   "source": [
    "# Database queries"
   ],
   "metadata": {}
  },
  {
   "cell_type": "markdown",
   "source": [
    "#### Create RMA object"
   ],
   "metadata": {}
  },
  {
   "cell_type": "code",
   "execution_count": 14,
   "source": [
    "aql = 'FOR item in SDT_RMA RETURN item'\n",
    "data = __arango_conn['eO'].AQLQuery(aql)\n",
    "\n",
    "RMA_CS1 = RMA(data)"
   ],
   "outputs": [
    {
     "output_type": "stream",
     "name": "stdout",
     "text": [
      "pd | 210 | earth, earth-orbit, mars-orbit, mars\n",
      "tr1 | 410 | earth, earth-orbit, mars-orbit, mars\n",
      "tr2 | 410 | mars, mars-orbit, earth-orbit, earth\n",
      "sf | 500 | mars\n"
     ]
    }
   ],
   "metadata": {}
  },
  {
   "cell_type": "markdown",
   "source": [
    "#### Create inventories"
   ],
   "metadata": {}
  },
  {
   "cell_type": "code",
   "execution_count": 15,
   "source": [
    "aql = 'FOR item in SDT_Inventory FILTER CONTAINS(item.Name, \"Inventory-pd\") == true RETURN item'\n",
    "data = __arango_conn['eO'].AQLQuery(aql)\n",
    "inv_pd = Inventory('root1', data=data)"
   ],
   "outputs": [
    {
     "output_type": "stream",
     "name": "stdout",
     "text": [
      "parent BioM child Crop reactor/Plant growth chamber\n",
      "parent BioM child Crop storage\n"
     ]
    }
   ],
   "metadata": {}
  },
  {
   "cell_type": "code",
   "execution_count": null,
   "source": [
    "aql = 'FOR item in SDT_Inventory FILTER CONTAINS(item.Name, \"Inventory-tr1\") == true RETURN item'\n",
    "data = __arango_conn['eO'].AQLQuery(aql)\n",
    "inv_tr1 = Inventory('root2', data=data)"
   ],
   "outputs": [],
   "metadata": {}
  },
  {
   "cell_type": "code",
   "execution_count": null,
   "source": [
    "aql = 'FOR item in SDT_Inventory FILTER CONTAINS(item.Name, \"Inventory-tr2\") == true RETURN item'\n",
    "data = __arango_conn['eO'].AQLQuery(aql)\n",
    "inv_tr2 = Inventory('root3', data=data)"
   ],
   "outputs": [],
   "metadata": {}
  },
  {
   "cell_type": "code",
   "execution_count": null,
   "source": [
    "aql = 'FOR item in SDT_Inventory FILTER CONTAINS(item.Name, \"Inventory-sf\") == true RETURN item'\n",
    "data = __arango_conn['eO'].AQLQuery(aql)\n",
    "inv_sf = Inventory('root4', data=data)"
   ],
   "outputs": [],
   "metadata": {}
  },
  {
   "cell_type": "markdown",
   "source": [
    "#### Add inventories to RMA segments"
   ],
   "metadata": {}
  },
  {
   "cell_type": "code",
   "execution_count": null,
   "source": [
    "RMA_CS1.segments"
   ],
   "outputs": [],
   "metadata": {}
  },
  {
   "cell_type": "code",
   "execution_count": null,
   "source": [
    "inventories = {'pd':inv_pd, 'tr1':inv_tr1, 'tr2':inv_tr2, 'sf':inv_sf}\n",
    "\n",
    "for key in RMA_CS1.segments.keys():\n",
    "    RMA_CS1.segments[key].set_inventory(inventories[key])"
   ],
   "outputs": [],
   "metadata": {}
  },
  {
   "cell_type": "markdown",
   "source": [
    "#### Create crew object"
   ],
   "metadata": {}
  },
  {
   "cell_type": "code",
   "execution_count": null,
   "source": [
    "aql = 'FOR item in SDT_Crew RETURN item'\n",
    "data = __arango_conn['eO'].AQLQuery(aql)\n",
    "CREW_CS1 = Crew.from_arango(data)"
   ],
   "outputs": [],
   "metadata": {}
  },
  {
   "cell_type": "markdown",
   "source": [
    "#### Add crew to RMA object"
   ],
   "metadata": {}
  },
  {
   "cell_type": "code",
   "execution_count": null,
   "source": [
    "for segment in RMA_CS1.segments.values():\n",
    "    if segment.crew_count == 4:\n",
    "        segment.set_crew(CREW_CS1)"
   ],
   "outputs": [],
   "metadata": {}
  },
  {
   "cell_type": "markdown",
   "source": [
    "# Calculations"
   ],
   "metadata": {}
  },
  {
   "cell_type": "markdown",
   "source": [
    "#### Mission needs"
   ],
   "metadata": {}
  },
  {
   "cell_type": "code",
   "execution_count": null,
   "source": [
    "calc_mission_needs(RMA_CS1)"
   ],
   "outputs": [],
   "metadata": {}
  },
  {
   "cell_type": "code",
   "execution_count": null,
   "source": [
    "import matplotlib.pyplot as plt\n",
    "\n",
    "needs = {'tr1':{'kcal': 17695.094169059117, 'sensible_heat': 9469.354860009202, 'latent_heat': 8038.609862946554, 'water_vapor': 3047.489821641586, 'sweat': 208.04796235497815, 'O2_consumption': 1221.9440446763515, 'CO2_output': 1553.7148016234069}, \\\n",
    "        'tr2': {'kcal': 17695.094169059117, 'sensible_heat': 9469.354860009202, 'latent_heat': 8038.609862946554, 'water_vapor': 3047.489821641586, 'sweat': 208.04796235497815, 'O2_consumption': 1221.9440446763515, 'CO2_output': 1553.7148016234069}, \\\n",
    "        'sf': {'kcal': 21579.383132998926, 'sensible_heat': 11547.993731718538, 'latent_heat': 9803.18275969092, 'water_vapor': 3716.451002001934, 'sweat': 253.7170272621685, 'O2_consumption': 1490.1756642394535, 'CO2_output': 1894.774148321228}}\n",
    "\n",
    "df = pd.DataFrame.from_dict(needs)"
   ],
   "outputs": [],
   "metadata": {}
  },
  {
   "cell_type": "code",
   "execution_count": null,
   "source": [
    "df.plot(y=[\"tr1\", \"tr2\", \"sf\"], kind=\"bar\")\n",
    "plt.show()"
   ],
   "outputs": [],
   "metadata": {}
  },
  {
   "cell_type": "markdown",
   "source": [
    "#### ESM"
   ],
   "metadata": {}
  },
  {
   "cell_type": "code",
   "execution_count": null,
   "source": [],
   "outputs": [],
   "metadata": {}
  },
  {
   "cell_type": "code",
   "execution_count": null,
   "source": [],
   "outputs": [],
   "metadata": {}
  },
  {
   "cell_type": "code",
   "execution_count": null,
   "source": [],
   "outputs": [],
   "metadata": {}
  },
  {
   "cell_type": "code",
   "execution_count": null,
   "source": [],
   "outputs": [],
   "metadata": {}
  }
 ],
 "metadata": {
  "kernelspec": {
   "name": "python3",
   "display_name": "Python 3.8.5 64-bit ('base': conda)"
  },
  "language_info": {
   "file_extension": ".py",
   "mimetype": "text/x-python",
   "name": "python",
   "version": "3.8.5"
  },
  "interpreter": {
   "hash": "59abe653f398c5bbf47cf3c46d0f781ed16b9a0ab3a07ab975326cc5e17bfc97"
  }
 },
 "nbformat": 4,
 "nbformat_minor": 4
}