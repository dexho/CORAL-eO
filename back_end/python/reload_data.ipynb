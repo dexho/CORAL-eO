{
 "cells": [
  {
   "cell_type": "code",
   "execution_count": 1,
   "id": "e31e8096",
   "metadata": {},
   "outputs": [
    {
     "ename": "KeyError",
     "evalue": "'upstream_connection_criteria'",
     "output_type": "error",
     "traceback": [
      "\u001b[0;31m---------------------------------------------------------------------------\u001b[0m",
      "\u001b[0;31mKeyError\u001b[0m                                  Traceback (most recent call last)",
      "\u001b[0;32m/tmp/ipykernel_5408/535458455.py\u001b[0m in \u001b[0;36m<module>\u001b[0;34m\u001b[0m\n\u001b[0;32m----> 1\u001b[0;31m \u001b[0;32mfrom\u001b[0m \u001b[0mcoral\u001b[0m\u001b[0;34m.\u001b[0m\u001b[0mdataprovider\u001b[0m \u001b[0;32mimport\u001b[0m \u001b[0mDataProvider\u001b[0m\u001b[0;34m\u001b[0m\u001b[0;34m\u001b[0m\u001b[0m\n\u001b[0m",
      "\u001b[0;32m~/CORAL-eO/back_end/python/coral/dataprovider.py\u001b[0m in \u001b[0;36m<module>\u001b[0;34m\u001b[0m\n\u001b[1;32m      1\u001b[0m \u001b[0;32mimport\u001b[0m \u001b[0mos\u001b[0m\u001b[0;34m\u001b[0m\u001b[0;34m\u001b[0m\u001b[0m\n\u001b[0;32m----> 2\u001b[0;31m \u001b[0;32mfrom\u001b[0m \u001b[0;34m.\u001b[0m \u001b[0;32mimport\u001b[0m \u001b[0mservices\u001b[0m\u001b[0;34m\u001b[0m\u001b[0;34m\u001b[0m\u001b[0m\n\u001b[0m\u001b[1;32m      3\u001b[0m \u001b[0;32mfrom\u001b[0m \u001b[0;34m.\u001b[0m\u001b[0mtypedef\u001b[0m \u001b[0;32mimport\u001b[0m \u001b[0mTYPE_NAME_BRICK\u001b[0m\u001b[0;34m,\u001b[0m \u001b[0mTYPE_CATEGORY_DYNAMIC\u001b[0m\u001b[0;34m,\u001b[0m \u001b[0mTYPE_CATEGORY_STATIC\u001b[0m\u001b[0;34m,\u001b[0m \u001b[0mTYPE_CATEGORY_SYSTEM\u001b[0m\u001b[0;34m\u001b[0m\u001b[0;34m\u001b[0m\u001b[0m\n\u001b[1;32m      4\u001b[0m \u001b[0;32mfrom\u001b[0m \u001b[0;34m.\u001b[0m\u001b[0mutils\u001b[0m \u001b[0;32mimport\u001b[0m \u001b[0mto_var_name\u001b[0m\u001b[0;34m\u001b[0m\u001b[0;34m\u001b[0m\u001b[0m\n\u001b[1;32m      5\u001b[0m \u001b[0;32mfrom\u001b[0m \u001b[0;34m.\u001b[0m\u001b[0mbrick\u001b[0m \u001b[0;32mimport\u001b[0m \u001b[0mBrick\u001b[0m\u001b[0;34m,\u001b[0m \u001b[0mBrickProvenance\u001b[0m\u001b[0;34m\u001b[0m\u001b[0;34m\u001b[0m\u001b[0m\n",
      "\u001b[0;32m~/CORAL-eO/back_end/python/coral/services.py\u001b[0m in \u001b[0;36m<module>\u001b[0;34m\u001b[0m\n\u001b[1;32m     36\u001b[0m \u001b[0m_GOOGLE_OAUTH2_CREDENTIALS\u001b[0m \u001b[0;34m=\u001b[0m \u001b[0m__CONFIG\u001b[0m\u001b[0;34m[\u001b[0m\u001b[0;34m'WebService'\u001b[0m\u001b[0;34m]\u001b[0m\u001b[0;34m[\u001b[0m\u001b[0;34m'google_auth_file'\u001b[0m\u001b[0;34m]\u001b[0m\u001b[0;34m\u001b[0m\u001b[0;34m\u001b[0m\u001b[0m\n\u001b[1;32m     37\u001b[0m \u001b[0m_GOOGLE_RECAPTCHA_SECRET\u001b[0m \u001b[0;34m=\u001b[0m \u001b[0m__CONFIG\u001b[0m\u001b[0;34m[\u001b[0m\u001b[0;34m'WebService'\u001b[0m\u001b[0;34m]\u001b[0m\u001b[0;34m[\u001b[0m\u001b[0;34m'captcha_secret_key'\u001b[0m\u001b[0;34m]\u001b[0m\u001b[0;34m\u001b[0m\u001b[0;34m\u001b[0m\u001b[0m\n\u001b[0;32m---> 38\u001b[0;31m \u001b[0m_COORDS_CRITERIA\u001b[0m \u001b[0;34m=\u001b[0m \u001b[0m__CONFIG\u001b[0m\u001b[0;34m[\u001b[0m\u001b[0;34m'WebService'\u001b[0m\u001b[0;34m]\u001b[0m\u001b[0;34m[\u001b[0m\u001b[0;34m'upstream_connection_criteria'\u001b[0m\u001b[0;34m]\u001b[0m\u001b[0;34m[\u001b[0m\u001b[0;34m'coords'\u001b[0m\u001b[0;34m]\u001b[0m\u001b[0;34m\u001b[0m\u001b[0;34m\u001b[0m\u001b[0m\n\u001b[0m\u001b[1;32m     39\u001b[0m \u001b[0m_USERS\u001b[0m \u001b[0;34m=\u001b[0m \u001b[0m__CONFIG\u001b[0m\u001b[0;34m[\u001b[0m\u001b[0;34m'WebService'\u001b[0m\u001b[0;34m]\u001b[0m\u001b[0;34m[\u001b[0m\u001b[0;34m'users'\u001b[0m\u001b[0;34m]\u001b[0m\u001b[0;34m\u001b[0m\u001b[0;34m\u001b[0m\u001b[0m\n\u001b[1;32m     40\u001b[0m \u001b[0;34m\u001b[0m\u001b[0m\n",
      "\u001b[0;31mKeyError\u001b[0m: 'upstream_connection_criteria'"
     ]
    }
   ],
   "source": [
    "from coral.dataprovider import DataProvider"
   ]
  },
  {
   "cell_type": "code",
   "execution_count": 1,
   "id": "515c07e8",
   "metadata": {},
   "outputs": [
    {
     "data": {
      "text/plain": [
       "4"
      ]
     },
     "execution_count": 1,
     "metadata": {},
     "output_type": "execute_result"
    }
   ],
   "source": [
    "2+2"
   ]
  },
  {
   "cell_type": "code",
   "execution_count": null,
   "id": "0521a1da",
   "metadata": {},
   "outputs": [],
   "source": []
  }
 ],
 "metadata": {
  "kernelspec": {
   "display_name": "Python 3 (ipykernel)",
   "language": "python",
   "name": "python3"
  },
  "language_info": {
   "codemirror_mode": {
    "name": "ipython",
    "version": 3
   },
   "file_extension": ".py",
   "mimetype": "text/x-python",
   "name": "python",
   "nbconvert_exporter": "python",
   "pygments_lexer": "ipython3",
   "version": "3.7.3"
  }
 },
 "nbformat": 4,
 "nbformat_minor": 5
}
