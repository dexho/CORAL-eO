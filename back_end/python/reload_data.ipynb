{
 "cells": [
  {
   "cell_type": "code",
   "execution_count": 1,
   "metadata": {},
   "outputs": [],
   "source": [
    "from coral.dataprovider import DataProvider\n",
    "from coral import toolx"
   ]
  },
  {
   "cell_type": "code",
   "execution_count": 2,
   "metadata": {
    "scrolled": false
   },
   "outputs": [
    {
     "name": "stdout",
     "output_type": "stream",
     "text": [
      "<pyArango.connection.Connection object at 0x7fe636078e50> eO\n",
      "Init system collections\n",
      "Truncate system collection: SYS_ID\n",
      "Init system collection: SYS_ID\n",
      "Can not create collection: SYS_ID\n",
      "Truncate system collection: SYS_ObjectTypeID\n",
      "Init system collection: SYS_ObjectTypeID\n",
      "Can not create collection: SYS_ObjectTypeID\n",
      "Init system collection: SYS_UserProfile\n",
      "Can not create collection: SYS_UserProfile\n",
      "Deleting old data\n",
      "<pyArango.connection.Connection object at 0x7fe638d38820> eO\n",
      "Removing process edges\n",
      "Truncate system collection: SYS_ProcessInput\n",
      "Truncate system collection: SYS_ProcessOutput\n",
      "Removing SYS_Process \n",
      "<pyArango.connection.Connection object at 0x7fe638d416a0> eO\n",
      "Removing DDT_Brick \n",
      "<pyArango.connection.Connection object at 0x7fe638d27790> eO\n",
      "Removing SDT_CUBES \n",
      "Removing SDT_Campaign \n",
      "Removing SDT_Techno-economics \n",
      "Removing SDT_Simulation \n",
      "Removing SDT_Inventory \n",
      "Removing SDT_RMA \n",
      "Uploading new data\n",
      "<pyArango.connection.Connection object at 0x7fe638f704f0> eO\n",
      "Ontology collection is present already\n",
      "Ensure ontology indices\n",
      "Doing ontology: units\n",
      "Deleting terms in units\n",
      "Doing ontology: context_measurement\n",
      "Deleting terms in context_measurement\n",
      "Doing ontology: dtype\n",
      "Deleting terms in dtype\n",
      "Doing ontology: process\n",
      "Deleting terms in process\n",
      "<pyArango.connection.Connection object at 0x7fe638cf7a30> eO\n",
      "<pyArango.connection.Connection object at 0x7fe638c8c550> eO\n",
      "Can not create a collection for type Process\n"
     ]
    }
   ],
   "source": [
    "toolx.init_system()"
   ]
  },
  {
   "cell_type": "code",
   "execution_count": 3,
   "metadata": {},
   "outputs": [
    {
     "name": "stdout",
     "output_type": "stream",
     "text": [
      "type_name Inventory\n",
      "Doing Inventory: xESM_1_inventory.tsv\n",
      "<pyArango.connection.Connection object at 0x7fe638d2b400> eO\n",
      "size=18\n"
     ]
    }
   ],
   "source": [
    "toolx.update_core('xESM_1_inventory.tsv', 'Inventory')"
   ]
  },
  {
   "cell_type": "code",
   "execution_count": 4,
   "metadata": {},
   "outputs": [
    {
     "name": "stdout",
     "output_type": "stream",
     "text": [
      "type_name RMA\n",
      "Doing RMA: RMA.tsv\n",
      "<pyArango.connection.Connection object at 0x7fe63915b550> eO\n",
      "size=3\n"
     ]
    }
   ],
   "source": [
    "toolx.update_core('RMA.tsv', 'RMA')"
   ]
  },
  {
   "cell_type": "code",
   "execution_count": null,
   "metadata": {},
   "outputs": [],
   "source": []
  }
 ],
 "metadata": {
  "kernelspec": {
   "display_name": "Python 3",
   "language": "python",
   "name": "python3"
  },
  "language_info": {
   "codemirror_mode": {
    "name": "ipython",
    "version": 3
   },
   "file_extension": ".py",
   "mimetype": "text/x-python",
   "name": "python",
   "nbconvert_exporter": "python",
   "pygments_lexer": "ipython3",
   "version": "3.8.5"
  }
 },
 "nbformat": 4,
 "nbformat_minor": 5
}
