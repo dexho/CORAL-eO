{
 "cells": [
  {
   "cell_type": "code",
   "execution_count": 3,
   "metadata": {},
   "outputs": [],
   "source": [
    "from coral.dataprovider import DataProvider\n",
    "from coral import toolx"
   ]
  },
  {
   "cell_type": "code",
   "execution_count": 4,
   "metadata": {},
   "outputs": [
    {
     "name": "stdout",
     "output_type": "stream",
     "text": [
      "Init system collections\n",
      "Truncate system collection: SYS_ID\n",
      "Init system collection: SYS_ID\n",
      "Can not create collection: SYS_ID\n",
      "Truncate system collection: SYS_ObjectTypeID\n",
      "Init system collection: SYS_ObjectTypeID\n",
      "Can not create collection: SYS_ObjectTypeID\n",
      "Init system collection: SYS_UserProfile\n",
      "Can not create collection: SYS_UserProfile\n",
      "Deleting old data\n",
      "Removing process edges\n",
      "Truncate system collection: SYS_ProcessInput\n",
      "Error:  'SYS_ProcessInput'\n",
      "Truncate system collection: SYS_ProcessOutput\n",
      "Error:  'SYS_ProcessOutput'\n",
      "Removing SYS_Process \n",
      "Removing DDT_Brick \n",
      "Removing SDT_ENIGMA \n",
      "Removing SDT_Location \n",
      "Removing SDT_Sample \n",
      "Removing SDT_Taxon \n",
      "Removing SDT_OTU \n",
      "Removing SDT_Condition \n",
      "Removing SDT_Strain \n",
      "Removing SDT_Community \n",
      "Removing SDT_Reads \n",
      "Removing SDT_Assembly \n",
      "Removing SDT_Genome \n",
      "Removing SDT_Gene \n",
      "Removing SDT_Bin \n",
      "Removing SDT_Protocol \n",
      "Removing SDT_Image \n",
      "Removing SDT_TnSeq_Library \n",
      "Removing SDT_DubSeq_Library \n",
      "Uploading new data\n",
      "Ontology collection is present already\n",
      "Ensure ontology indices\n",
      "Doing ontology: units\n",
      "Deleting terms in units\n",
      "Doing ontology: context_measurement\n",
      "Deleting terms in context_measurement\n",
      "Doing ontology: dtype\n",
      "Deleting terms in dtype\n",
      "Doing ontology: process\n",
      "Deleting terms in process\n",
      "Doing Inventory: /Users/desho/CORAL-eO/example/eO/data/Habnet_sortie_case_1.xlsx\n",
      "Error: 'NoneType' object has no attribute '_ensure_init_index'\n",
      "Done!\n",
      "\n",
      "Doing RMA: /Users/desho/CORAL-eO/example/eO/data/RMA.xlsx\n",
      "Error: 'NoneType' object has no attribute '_ensure_init_index'\n",
      "Done!\n",
      "\n"
     ]
    }
   ],
   "source": [
    "toolx.init_system()"
   ]
  },
  {
   "cell_type": "code",
   "execution_count": null,
   "metadata": {},
   "outputs": [],
   "source": []
  }
 ],
 "metadata": {
  "kernelspec": {
   "display_name": "Python 3",
   "language": "python",
   "name": "python3"
  },
  "language_info": {
   "codemirror_mode": {
    "name": "ipython",
    "version": 3
   },
   "file_extension": ".py",
   "mimetype": "text/x-python",
   "name": "python",
   "nbconvert_exporter": "python",
   "pygments_lexer": "ipython3",
   "version": "3.8.5"
  }
 },
 "nbformat": 4,
 "nbformat_minor": 5
}
