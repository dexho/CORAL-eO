{
 "cells": [
  {
   "cell_type": "code",
   "execution_count": 1,
   "id": "6426c077",
   "metadata": {},
   "outputs": [],
   "source": [
    "from coral.dataprovider import DataProvider\n",
    "from coral import toolx"
   ]
  },
  {
   "cell_type": "code",
   "execution_count": 2,
   "id": "8579902d",
   "metadata": {
    "scrolled": false
   },
   "outputs": [
    {
     "name": "stdout",
     "output_type": "stream",
     "text": [
      "<pyArango.connection.Connection object at 0x7f9a04ceb310> eO\n",
      "Init system collections\n",
      "Truncate system collection: SYS_ID\n",
      "Error:  'SYS_ID'\n",
      "Init system collection: SYS_ID\n",
      "Truncate system collection: SYS_ObjectTypeID\n",
      "Error:  'SYS_ObjectTypeID'\n",
      "Init system collection: SYS_ObjectTypeID\n",
      "Init system collection: SYS_UserProfile\n",
      "Deleting old data\n",
      "<pyArango.connection.Connection object at 0x7f9a04ca3d90> eO\n",
      "Removing process edges\n",
      "Truncate system collection: SYS_ProcessInput\n",
      "Error:  'SYS_ProcessInput'\n",
      "Truncate system collection: SYS_ProcessOutput\n",
      "Error:  'SYS_ProcessOutput'\n",
      "Removing SYS_Process \n",
      "<pyArango.connection.Connection object at 0x7f9a04c41f70> eO\n",
      "Removing DDT_Brick \n",
      "<pyArango.connection.Connection object at 0x7f9a04cb04f0> eO\n",
      "Removing SDT_CUBES \n",
      "Removing SDT_Campaign \n",
      "Removing SDT_Techno-economics \n",
      "Removing SDT_Simulation \n",
      "Removing SDT_Inventory \n",
      "Removing SDT_RMA \n",
      "Uploading new data\n",
      "<pyArango.connection.Connection object at 0x7f9a04bff4f0> eO\n",
      "Ensure ontology indices\n",
      "Doing ontology: units\n",
      "Deleting terms in units\n",
      "Doing ontology: context_measurement\n",
      "Deleting terms in context_measurement\n",
      "Doing ontology: dtype\n",
      "Deleting terms in dtype\n",
      "Doing ontology: process\n",
      "Deleting terms in process\n",
      "<pyArango.connection.Connection object at 0x7f9a04a66670> eO\n",
      "<pyArango.connection.Connection object at 0x7f9a04a66f70> eO\n"
     ]
    }
   ],
   "source": [
    "toolx.init_system()"
   ]
  },
  {
   "cell_type": "code",
   "execution_count": 3,
   "id": "84232af8",
   "metadata": {},
   "outputs": [
    {
     "name": "stdout",
     "output_type": "stream",
     "text": [
      "type_name Inventory\n",
      "Doing Inventory: xESM_1_inventory.tsv\n",
      "<pyArango.connection.Connection object at 0x7f9a04a6b0a0> eO\n",
      "size=18\n"
     ]
    }
   ],
   "source": [
    "toolx.update_core('xESM_1_inventory.tsv', 'Inventory')"
   ]
  },
  {
   "cell_type": "code",
   "execution_count": 4,
   "id": "18f0a570",
   "metadata": {},
   "outputs": [
    {
     "name": "stdout",
     "output_type": "stream",
     "text": [
      "type_name RMA\n",
      "Doing RMA: RMA.tsv\n",
      "<pyArango.connection.Connection object at 0x7f9a04a667c0> eO\n",
      "size=3\n"
     ]
    }
   ],
   "source": [
    "toolx.update_core('RMA.tsv', 'RMA')"
   ]
  },
  {
   "cell_type": "code",
   "execution_count": null,
   "id": "91b3dd13",
   "metadata": {},
   "outputs": [],
   "source": []
  }
 ],
 "metadata": {
  "kernelspec": {
   "display_name": "Python 3 (ipykernel)",
   "language": "python",
   "name": "python3"
  },
  "language_info": {
   "codemirror_mode": {
    "name": "ipython",
    "version": 3
   },
   "file_extension": ".py",
   "mimetype": "text/x-python",
   "name": "python",
   "nbconvert_exporter": "python",
   "pygments_lexer": "ipython3",
   "version": "3.8.10"
  }
 },
 "nbformat": 4,
 "nbformat_minor": 5
}
