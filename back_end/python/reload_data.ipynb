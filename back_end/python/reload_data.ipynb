{
 "cells": [
  {
   "cell_type": "code",
   "execution_count": 1,
   "metadata": {},
   "outputs": [],
   "source": [
    "from coral.dataprovider import DataProvider\n",
    "from coral import toolx"
   ]
  },
  {
   "cell_type": "code",
   "execution_count": 2,
   "metadata": {},
   "outputs": [
    {
     "name": "stdout",
     "output_type": "stream",
     "text": [
      "<pyArango.connection.Connection object at 0x7fc7c55540d0> eO\n",
      "Init system collections\n",
      "Truncate system collection: SYS_ID\n",
      "Init system collection: SYS_ID\n",
      "Can not create collection: SYS_ID\n",
      "Truncate system collection: SYS_ObjectTypeID\n",
      "Init system collection: SYS_ObjectTypeID\n",
      "Can not create collection: SYS_ObjectTypeID\n",
      "Init system collection: SYS_UserProfile\n",
      "Can not create collection: SYS_UserProfile\n",
      "Deleting old data\n",
      "<pyArango.connection.Connection object at 0x7fc7c7e4beb0> eO\n",
      "Removing process edges\n",
      "Truncate system collection: SYS_ProcessInput\n",
      "Truncate system collection: SYS_ProcessOutput\n",
      "Removing SYS_Process \n",
      "<pyArango.connection.Connection object at 0x7fc7c7e68f40> eO\n",
      "Removing DDT_Brick \n",
      "<pyArango.connection.Connection object at 0x7fc7c89051c0> eO\n",
      "Removing SDT_CUBES \n",
      "Removing SDT_Campaign \n",
      "Removing SDT_Techno-economics \n",
      "Removing SDT_Simulation \n",
      "Removing SDT_Inventory \n",
      "Removing SDT_RMA \n",
      "Removing SDT_Crew \n",
      "Uploading new data\n",
      "<pyArango.connection.Connection object at 0x7fc7c8a418b0> eO\n",
      "Ontology collection is present already\n",
      "Ensure ontology indices\n",
      "Doing ontology: units\n",
      "Deleting terms in units\n",
      "Doing ontology: context_measurement\n",
      "Deleting terms in context_measurement\n",
      "Doing ontology: dtype\n",
      "Deleting terms in dtype\n",
      "Doing ontology: process\n",
      "Deleting terms in process\n",
      "<pyArango.connection.Connection object at 0x7fc7c7e1dbb0> eO\n",
      "<pyArango.connection.Connection object at 0x7fc7c7e1d4f0> eO\n",
      "Can not create a collection for type Process\n"
     ]
    }
   ],
   "source": [
    "toolx.init_system()"
   ]
  },
  {
   "cell_type": "code",
   "execution_count": 3,
   "metadata": {},
   "outputs": [],
   "source": [
    "import pandas as pd\n",
    "import os"
   ]
  },
  {
   "cell_type": "code",
   "execution_count": 4,
   "metadata": {},
   "outputs": [
    {
     "name": "stdout",
     "output_type": "stream",
     "text": [
      "created /Users/desho/CORAL-eO/example/eO/data/case_study_1/crew.tsv\n",
      "created /Users/desho/CORAL-eO/example/eO/data/case_study_1/inventory_tr2.tsv\n",
      "created /Users/desho/CORAL-eO/example/eO/data/case_study_1/inventory_pd.tsv\n",
      "created /Users/desho/CORAL-eO/example/eO/data/case_study_1/RMA.tsv\n",
      "created /Users/desho/CORAL-eO/example/eO/data/case_study_1/inventory_tr1.tsv\n",
      "created /Users/desho/CORAL-eO/example/eO/data/case_study_1/inventory_sf.tsv\n"
     ]
    }
   ],
   "source": [
    "cs1_dir = '/Users/desho/CORAL-eO/example/eO/data/case_study_1'\n",
    "for file in os.listdir(cs1_dir):\n",
    "    if file[-4:] == 'xlsx':\n",
    "        name = cs1_dir + '/' + file\n",
    "        df = pd.read_excel(name)\n",
    "        if 'Process' in df.columns:\n",
    "            df['Process'] = df['Process'].ffill()\n",
    "        df = df.fillna(0)\n",
    "        df.to_csv(name[:-5] + '.tsv', sep='\\t', index=False)\n",
    "        print('created', name[:-5] + '.tsv')"
   ]
  },
  {
   "cell_type": "code",
   "execution_count": 5,
   "metadata": {},
   "outputs": [
    {
     "name": "stdout",
     "output_type": "stream",
     "text": [
      "type_name RMA\n",
      "Doing RMA: case_study_1/RMA.tsv\n",
      "<pyArango.connection.Connection object at 0x7fc7c8a36460> eO\n",
      "size=4\n"
     ]
    }
   ],
   "source": [
    "toolx.update_core('case_study_1/RMA.tsv', 'RMA')"
   ]
  },
  {
   "cell_type": "code",
   "execution_count": 6,
   "metadata": {},
   "outputs": [
    {
     "name": "stdout",
     "output_type": "stream",
     "text": [
      "type_name Inventory\n",
      "Doing Inventory: case_study_1/inventory_pd.tsv\n",
      "<pyArango.connection.Connection object at 0x7fc7c8a36b50> eO\n",
      "size=2\n"
     ]
    }
   ],
   "source": [
    "toolx.update_core('case_study_1/inventory_pd.tsv', 'Inventory')"
   ]
  },
  {
   "cell_type": "code",
   "execution_count": 7,
   "metadata": {},
   "outputs": [
    {
     "name": "stdout",
     "output_type": "stream",
     "text": [
      "type_name Inventory\n",
      "Doing Inventory: case_study_1/inventory_sf.tsv\n",
      "<pyArango.connection.Connection object at 0x7fc7c8c486a0> eO\n",
      "Can not create a collection for type Inventory\n",
      "size=6\n"
     ]
    }
   ],
   "source": [
    "toolx.update_core('case_study_1/inventory_sf.tsv', 'Inventory')"
   ]
  },
  {
   "cell_type": "code",
   "execution_count": 8,
   "metadata": {},
   "outputs": [
    {
     "name": "stdout",
     "output_type": "stream",
     "text": [
      "type_name Inventory\n",
      "Doing Inventory: case_study_1/inventory_tr1.tsv\n",
      "<pyArango.connection.Connection object at 0x7fc7c8c48790> eO\n",
      "Can not create a collection for type Inventory\n",
      "size=6\n"
     ]
    }
   ],
   "source": [
    "toolx.update_core('case_study_1/inventory_tr1.tsv', 'Inventory')"
   ]
  },
  {
   "cell_type": "code",
   "execution_count": 9,
   "metadata": {},
   "outputs": [
    {
     "name": "stdout",
     "output_type": "stream",
     "text": [
      "type_name Inventory\n",
      "Doing Inventory: case_study_1/inventory_tr2.tsv\n",
      "<pyArango.connection.Connection object at 0x7fc7c8905940> eO\n",
      "Can not create a collection for type Inventory\n",
      "size=6\n"
     ]
    }
   ],
   "source": [
    "toolx.update_core('case_study_1/inventory_tr2.tsv', 'Inventory')"
   ]
  },
  {
   "cell_type": "code",
   "execution_count": null,
   "metadata": {},
   "outputs": [],
   "source": []
  },
  {
   "cell_type": "code",
   "execution_count": null,
   "metadata": {},
   "outputs": [],
   "source": []
  }
 ],
 "metadata": {
  "kernelspec": {
   "display_name": "Python 3.8 (XPython)",
   "language": "python",
   "name": "xpython"
  },
  "language_info": {
   "file_extension": ".py",
   "mimetype": "text/x-python",
   "name": "python",
   "version": "3.8.10"
  }
 },
 "nbformat": 4,
 "nbformat_minor": 5
}
